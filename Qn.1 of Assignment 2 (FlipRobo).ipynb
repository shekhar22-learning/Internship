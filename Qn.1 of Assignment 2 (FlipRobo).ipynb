{
 "cells": [
  {
   "cell_type": "code",
   "execution_count": 1,
   "metadata": {},
   "outputs": [
    {
     "name": "stdout",
     "output_type": "stream",
     "text": [
      "Requirement already satisfied: selenium in c:\\users\\shekhar sinha\\anaconda3\\lib\\site-packages (4.1.0)\n",
      "Requirement already satisfied: trio~=0.17 in c:\\users\\shekhar sinha\\anaconda3\\lib\\site-packages (from selenium) (0.19.0)\n",
      "Requirement already satisfied: trio-websocket~=0.9 in c:\\users\\shekhar sinha\\anaconda3\\lib\\site-packages (from selenium) (0.9.2)\n",
      "Requirement already satisfied: urllib3[secure]~=1.26 in c:\\users\\shekhar sinha\\anaconda3\\lib\\site-packages (from selenium) (1.26.7)\n",
      "Requirement already satisfied: cffi>=1.14; os_name == \"nt\" and implementation_name != \"pypy\" in c:\\users\\shekhar sinha\\anaconda3\\lib\\site-packages (from trio~=0.17->selenium) (1.15.0)\n",
      "Requirement already satisfied: sortedcontainers in c:\\users\\shekhar sinha\\anaconda3\\lib\\site-packages (from trio~=0.17->selenium) (2.1.0)\n",
      "Requirement already satisfied: idna in c:\\users\\shekhar sinha\\anaconda3\\lib\\site-packages (from trio~=0.17->selenium) (2.8)\n",
      "Requirement already satisfied: sniffio in c:\\users\\shekhar sinha\\anaconda3\\lib\\site-packages (from trio~=0.17->selenium) (1.2.0)\n",
      "Requirement already satisfied: outcome in c:\\users\\shekhar sinha\\anaconda3\\lib\\site-packages (from trio~=0.17->selenium) (1.1.0)\n",
      "Requirement already satisfied: async-generator>=1.9 in c:\\users\\shekhar sinha\\anaconda3\\lib\\site-packages (from trio~=0.17->selenium) (1.10)\n",
      "Requirement already satisfied: attrs>=19.2.0 in c:\\users\\shekhar sinha\\anaconda3\\lib\\site-packages (from trio~=0.17->selenium) (21.2.0)\n",
      "Requirement already satisfied: wsproto>=0.14 in c:\\users\\shekhar sinha\\anaconda3\\lib\\site-packages (from trio-websocket~=0.9->selenium) (1.0.0)\n",
      "Requirement already satisfied: certifi; extra == \"secure\" in c:\\users\\shekhar sinha\\anaconda3\\lib\\site-packages (from urllib3[secure]~=1.26->selenium) (2019.6.16)\n",
      "Requirement already satisfied: pyOpenSSL>=0.14; extra == \"secure\" in c:\\users\\shekhar sinha\\anaconda3\\lib\\site-packages (from urllib3[secure]~=1.26->selenium) (19.0.0)\n",
      "Requirement already satisfied: cryptography>=1.3.4; extra == \"secure\" in c:\\users\\shekhar sinha\\anaconda3\\lib\\site-packages (from urllib3[secure]~=1.26->selenium) (2.7)\n",
      "Requirement already satisfied: pycparser in c:\\users\\shekhar sinha\\anaconda3\\lib\\site-packages (from cffi>=1.14; os_name == \"nt\" and implementation_name != \"pypy\"->trio~=0.17->selenium) (2.19)\n",
      "Requirement already satisfied: h11<1,>=0.9.0 in c:\\users\\shekhar sinha\\anaconda3\\lib\\site-packages (from wsproto>=0.14->trio-websocket~=0.9->selenium) (0.12.0)\n",
      "Requirement already satisfied: six>=1.5.2 in c:\\users\\shekhar sinha\\anaconda3\\lib\\site-packages (from pyOpenSSL>=0.14; extra == \"secure\"->urllib3[secure]~=1.26->selenium) (1.12.0)\n",
      "Requirement already satisfied: asn1crypto>=0.21.0 in c:\\users\\shekhar sinha\\anaconda3\\lib\\site-packages (from cryptography>=1.3.4; extra == \"secure\"->urllib3[secure]~=1.26->selenium) (0.24.0)\n"
     ]
    }
   ],
   "source": [
    "! pip install selenium"
   ]
  },
  {
   "cell_type": "code",
   "execution_count": 1,
   "metadata": {},
   "outputs": [],
   "source": [
    "# Importing the required libraries\n",
    "\n",
    "import selenium\n",
    "import pandas as pd\n",
    "from selenium import webdriver"
   ]
  },
  {
   "cell_type": "code",
   "execution_count": 2,
   "metadata": {},
   "outputs": [
    {
     "name": "stderr",
     "output_type": "stream",
     "text": [
      "C:\\Users\\Shekhar Sinha\\Anaconda3\\lib\\site-packages\\ipykernel_launcher.py:1: DeprecationWarning: executable_path has been deprecated, please pass in a Service object\n",
      "  \"\"\"Entry point for launching an IPython kernel.\n"
     ]
    }
   ],
   "source": [
    "driver = webdriver.Chrome(r\"F:\\SOFTWARE\\Web Drivers\\chromedriver_win32\\chromedriver.exe\")"
   ]
  },
  {
   "cell_type": "markdown",
   "metadata": {},
   "source": [
    "### Question 1"
   ]
  },
  {
   "cell_type": "code",
   "execution_count": 3,
   "metadata": {},
   "outputs": [],
   "source": [
    "driver.get('https://www.naukri.com/')"
   ]
  },
  {
   "cell_type": "code",
   "execution_count": 4,
   "metadata": {},
   "outputs": [
    {
     "name": "stderr",
     "output_type": "stream",
     "text": [
      "C:\\Users\\Shekhar Sinha\\Anaconda3\\lib\\site-packages\\ipykernel_launcher.py:1: DeprecationWarning: find_element_by_* commands are deprecated. Please use find_element() instead\n",
      "  \"\"\"Entry point for launching an IPython kernel.\n",
      "C:\\Users\\Shekhar Sinha\\Anaconda3\\lib\\site-packages\\ipykernel_launcher.py:3: DeprecationWarning: find_element_by_* commands are deprecated. Please use find_element() instead\n",
      "  This is separate from the ipykernel package so we can avoid doing imports until\n"
     ]
    }
   ],
   "source": [
    "search_job = driver.find_element_by_xpath(\"//input[@id='qsb-keyword-sugg']\")\n",
    "search_job.send_keys(\"Data Analyst\")\n",
    "search_loc = driver.find_element_by_xpath(\"//input[@id='qsb-location-sugg']\")\n",
    "search_loc.send_keys(\"Banglore\")"
   ]
  },
  {
   "cell_type": "code",
   "execution_count": 5,
   "metadata": {},
   "outputs": [
    {
     "name": "stderr",
     "output_type": "stream",
     "text": [
      "C:\\Users\\Shekhar Sinha\\Anaconda3\\lib\\site-packages\\ipykernel_launcher.py:1: DeprecationWarning: find_element_by_* commands are deprecated. Please use find_element() instead\n",
      "  \"\"\"Entry point for launching an IPython kernel.\n"
     ]
    }
   ],
   "source": [
    "search_btn = driver.find_element_by_xpath(\"//div[@class='search-btn']/button\")\n",
    "search_btn.click()"
   ]
  },
  {
   "cell_type": "code",
   "execution_count": 6,
   "metadata": {},
   "outputs": [],
   "source": [
    "#Creating Empty List for the Data to be Extracted\n",
    "\n",
    "job_titles = []\n",
    "job_location = []\n",
    "company_names = []\n",
    "experience_lists = []\n"
   ]
  },
  {
   "cell_type": "code",
   "execution_count": 7,
   "metadata": {},
   "outputs": [
    {
     "name": "stderr",
     "output_type": "stream",
     "text": [
      "C:\\Users\\Shekhar Sinha\\Anaconda3\\lib\\site-packages\\ipykernel_launcher.py:1: DeprecationWarning: find_elements_by_* commands are deprecated. Please use find_elements() instead\n",
      "  \"\"\"Entry point for launching an IPython kernel.\n"
     ]
    },
    {
     "data": {
      "text/plain": [
       "[<selenium.webdriver.remote.webelement.WebElement (session=\"243085e3d56fdd1f87d54f49ff78a2fa\", element=\"c7f5431e-8fbb-4ee0-96a7-45fd2d7fe857\")>,\n",
       " <selenium.webdriver.remote.webelement.WebElement (session=\"243085e3d56fdd1f87d54f49ff78a2fa\", element=\"e9a4075c-944a-445d-942e-196de1c6348a\")>,\n",
       " <selenium.webdriver.remote.webelement.WebElement (session=\"243085e3d56fdd1f87d54f49ff78a2fa\", element=\"9718e04f-e73b-4e71-a4ca-b886f0a36f6c\")>,\n",
       " <selenium.webdriver.remote.webelement.WebElement (session=\"243085e3d56fdd1f87d54f49ff78a2fa\", element=\"7f5bd55b-f531-492d-85b3-71294f9dfce0\")>,\n",
       " <selenium.webdriver.remote.webelement.WebElement (session=\"243085e3d56fdd1f87d54f49ff78a2fa\", element=\"dbc942e9-604e-4212-8a01-c7bf198651b6\")>]"
      ]
     },
     "execution_count": 7,
     "metadata": {},
     "output_type": "execute_result"
    }
   ],
   "source": [
    "titles_tags = driver.find_elements_by_xpath(\"//a[@class='title fw500 ellipsis']\")\n",
    "titles_tags[0:5]"
   ]
  },
  {
   "cell_type": "code",
   "execution_count": 9,
   "metadata": {},
   "outputs": [
    {
     "data": {
      "text/plain": [
       "['Assistant/deputy Manager - Geo-spatial Data Analyst',\n",
       " 'Senior Data Analyst',\n",
       " 'SENIOR ASSOCIATE ENGINEER - SCM - DATA ANALYST',\n",
       " 'Data Analyst',\n",
       " 'Data Analyst / Engineer']"
      ]
     },
     "execution_count": 9,
     "metadata": {},
     "output_type": "execute_result"
    }
   ],
   "source": [
    "for i in titles_tags:\n",
    "    title=i.text\n",
    "    job_titles.append(title)\n",
    "job_titles[0:5]"
   ]
  },
  {
   "cell_type": "code",
   "execution_count": 10,
   "metadata": {},
   "outputs": [
    {
     "name": "stderr",
     "output_type": "stream",
     "text": [
      "C:\\Users\\Shekhar Sinha\\Anaconda3\\lib\\site-packages\\ipykernel_launcher.py:1: DeprecationWarning: find_elements_by_* commands are deprecated. Please use find_elements() instead\n",
      "  \"\"\"Entry point for launching an IPython kernel.\n"
     ]
    },
    {
     "data": {
      "text/plain": [
       "[<selenium.webdriver.remote.webelement.WebElement (session=\"243085e3d56fdd1f87d54f49ff78a2fa\", element=\"ab473627-e97a-4cbf-81e1-62af6228e5bd\")>,\n",
       " <selenium.webdriver.remote.webelement.WebElement (session=\"243085e3d56fdd1f87d54f49ff78a2fa\", element=\"da64f032-11ee-4be2-b38e-7bb4ae25b88a\")>,\n",
       " <selenium.webdriver.remote.webelement.WebElement (session=\"243085e3d56fdd1f87d54f49ff78a2fa\", element=\"33f393c9-4629-4869-b58e-45b465cb3f4c\")>,\n",
       " <selenium.webdriver.remote.webelement.WebElement (session=\"243085e3d56fdd1f87d54f49ff78a2fa\", element=\"2624ba08-e386-4f03-af28-b2ac55f8dc61\")>,\n",
       " <selenium.webdriver.remote.webelement.WebElement (session=\"243085e3d56fdd1f87d54f49ff78a2fa\", element=\"19d17c91-55d6-4f7e-a81b-7d511503bde7\")>]"
      ]
     },
     "execution_count": 10,
     "metadata": {},
     "output_type": "execute_result"
    }
   ],
   "source": [
    "locations_tags = driver.find_elements_by_xpath(\"//li[@class='fleft grey-text br2 placeHolderLi location']/span[1]\")\n",
    "locations_tags[0:5]"
   ]
  },
  {
   "cell_type": "code",
   "execution_count": 12,
   "metadata": {},
   "outputs": [
    {
     "data": {
      "text/plain": [
       "['Gurgaon/Gurugram, bangalore',\n",
       " 'Bangalore/Bengaluru',\n",
       " 'Bangalore/Bengaluru',\n",
       " 'Bangalore/Bengaluru',\n",
       " 'Chennai, Bangalore/Bengaluru']"
      ]
     },
     "execution_count": 12,
     "metadata": {},
     "output_type": "execute_result"
    }
   ],
   "source": [
    "for i in locations_tags:\n",
    "    locations = i.text\n",
    "    job_location.append(locations)\n",
    "job_location[0:5]"
   ]
  },
  {
   "cell_type": "code",
   "execution_count": 14,
   "metadata": {},
   "outputs": [
    {
     "name": "stderr",
     "output_type": "stream",
     "text": [
      "C:\\Users\\Shekhar Sinha\\Anaconda3\\lib\\site-packages\\ipykernel_launcher.py:1: DeprecationWarning: find_elements_by_* commands are deprecated. Please use find_elements() instead\n",
      "  \"\"\"Entry point for launching an IPython kernel.\n"
     ]
    },
    {
     "data": {
      "text/plain": [
       "[<selenium.webdriver.remote.webelement.WebElement (session=\"243085e3d56fdd1f87d54f49ff78a2fa\", element=\"c4e0b239-1da4-4592-bedb-8ff6b3a87220\")>,\n",
       " <selenium.webdriver.remote.webelement.WebElement (session=\"243085e3d56fdd1f87d54f49ff78a2fa\", element=\"5fde6d70-6922-428a-aa02-ad5b6c91ce53\")>,\n",
       " <selenium.webdriver.remote.webelement.WebElement (session=\"243085e3d56fdd1f87d54f49ff78a2fa\", element=\"ea01c2fe-56a5-434d-9360-3d02ec296490\")>,\n",
       " <selenium.webdriver.remote.webelement.WebElement (session=\"243085e3d56fdd1f87d54f49ff78a2fa\", element=\"b9d42454-96dd-453f-871d-6f0d203fef89\")>,\n",
       " <selenium.webdriver.remote.webelement.WebElement (session=\"243085e3d56fdd1f87d54f49ff78a2fa\", element=\"3ada6084-91d3-4e03-9de6-b928cf4bbdce\")>]"
      ]
     },
     "execution_count": 14,
     "metadata": {},
     "output_type": "execute_result"
    }
   ],
   "source": [
    "companies_tags = driver.find_elements_by_xpath(\"//a[@class='subTitle ellipsis fleft']\")\n",
    "companies_tags[0:5]"
   ]
  },
  {
   "cell_type": "code",
   "execution_count": 16,
   "metadata": {},
   "outputs": [
    {
     "data": {
      "text/plain": [
       "['Maruti Suzuki India',\n",
       " 'Rapido',\n",
       " 'Collins Aerospace',\n",
       " 'GlaxoSmithKline Pharmaceuticals Limited',\n",
       " 'Animaker India Private Limited']"
      ]
     },
     "execution_count": 16,
     "metadata": {},
     "output_type": "execute_result"
    }
   ],
   "source": [
    "for i in companies_tags:\n",
    "    company_name = i.text\n",
    "    company_names.append(company_name)\n",
    "company_names[0:5]"
   ]
  },
  {
   "cell_type": "code",
   "execution_count": 17,
   "metadata": {},
   "outputs": [
    {
     "name": "stderr",
     "output_type": "stream",
     "text": [
      "C:\\Users\\Shekhar Sinha\\Anaconda3\\lib\\site-packages\\ipykernel_launcher.py:1: DeprecationWarning: find_elements_by_* commands are deprecated. Please use find_elements() instead\n",
      "  \"\"\"Entry point for launching an IPython kernel.\n"
     ]
    },
    {
     "data": {
      "text/plain": [
       "[<selenium.webdriver.remote.webelement.WebElement (session=\"243085e3d56fdd1f87d54f49ff78a2fa\", element=\"4b6ec5ea-59b7-4810-9afc-63bd6acece8d\")>,\n",
       " <selenium.webdriver.remote.webelement.WebElement (session=\"243085e3d56fdd1f87d54f49ff78a2fa\", element=\"7e3a977d-62cb-4b1a-bb67-3030b13560a1\")>,\n",
       " <selenium.webdriver.remote.webelement.WebElement (session=\"243085e3d56fdd1f87d54f49ff78a2fa\", element=\"678f1081-bace-4431-be0c-7bd70353ac9f\")>,\n",
       " <selenium.webdriver.remote.webelement.WebElement (session=\"243085e3d56fdd1f87d54f49ff78a2fa\", element=\"3e63a6a7-7779-4dc4-b04a-6051401296be\")>,\n",
       " <selenium.webdriver.remote.webelement.WebElement (session=\"243085e3d56fdd1f87d54f49ff78a2fa\", element=\"6a86b047-2105-4bd5-8812-1864ec2e1bb5\")>]"
      ]
     },
     "execution_count": 17,
     "metadata": {},
     "output_type": "execute_result"
    }
   ],
   "source": [
    "experience_tags = driver.find_elements_by_xpath(\"//li[@class='fleft grey-text br2 placeHolderLi experience']\")\n",
    "experience_tags[0:5]"
   ]
  },
  {
   "cell_type": "code",
   "execution_count": 18,
   "metadata": {},
   "outputs": [
    {
     "data": {
      "text/plain": [
       "['3-5 Yrs', '1-6 Yrs', '9-12 Yrs', '3-8 Yrs', '4-9 Yrs']"
      ]
     },
     "execution_count": 18,
     "metadata": {},
     "output_type": "execute_result"
    }
   ],
   "source": [
    "for i in experience_tags:\n",
    "    experience = i.text\n",
    "    experience_lists.append(experience)\n",
    "experience_lists[0:5]"
   ]
  },
  {
   "cell_type": "code",
   "execution_count": 19,
   "metadata": {},
   "outputs": [
    {
     "name": "stdout",
     "output_type": "stream",
     "text": [
      "40 40 40 20\n"
     ]
    }
   ],
   "source": [
    "print(len(job_titles), len(job_location), len(company_names), len(experience_lists))"
   ]
  },
  {
   "cell_type": "code",
   "execution_count": 20,
   "metadata": {},
   "outputs": [],
   "source": [
    "jobs=pd.DataFrame({})\n",
    "jobs['Title']=job_titles[0:10]\n",
    "jobs['Location']=job_location[0:10]\n",
    "jobs['Company']=company_names[0:10]\n",
    "jobs['Experience Reqd.']=experience_lists[0:10]\n"
   ]
  },
  {
   "cell_type": "code",
   "execution_count": 21,
   "metadata": {},
   "outputs": [
    {
     "data": {
      "text/html": [
       "<div>\n",
       "<style scoped>\n",
       "    .dataframe tbody tr th:only-of-type {\n",
       "        vertical-align: middle;\n",
       "    }\n",
       "\n",
       "    .dataframe tbody tr th {\n",
       "        vertical-align: top;\n",
       "    }\n",
       "\n",
       "    .dataframe thead th {\n",
       "        text-align: right;\n",
       "    }\n",
       "</style>\n",
       "<table border=\"1\" class=\"dataframe\">\n",
       "  <thead>\n",
       "    <tr style=\"text-align: right;\">\n",
       "      <th></th>\n",
       "      <th>Title</th>\n",
       "      <th>Location</th>\n",
       "      <th>Company</th>\n",
       "      <th>Experience Reqd.</th>\n",
       "    </tr>\n",
       "  </thead>\n",
       "  <tbody>\n",
       "    <tr>\n",
       "      <th>0</th>\n",
       "      <td>Assistant/deputy Manager - Geo-spatial Data An...</td>\n",
       "      <td>Gurgaon/Gurugram, bangalore</td>\n",
       "      <td>Maruti Suzuki India</td>\n",
       "      <td>3-5 Yrs</td>\n",
       "    </tr>\n",
       "    <tr>\n",
       "      <th>1</th>\n",
       "      <td>Senior Data Analyst</td>\n",
       "      <td>Bangalore/Bengaluru</td>\n",
       "      <td>Rapido</td>\n",
       "      <td>1-6 Yrs</td>\n",
       "    </tr>\n",
       "    <tr>\n",
       "      <th>2</th>\n",
       "      <td>SENIOR ASSOCIATE ENGINEER - SCM - DATA ANALYST</td>\n",
       "      <td>Bangalore/Bengaluru</td>\n",
       "      <td>Collins Aerospace</td>\n",
       "      <td>9-12 Yrs</td>\n",
       "    </tr>\n",
       "    <tr>\n",
       "      <th>3</th>\n",
       "      <td>Data Analyst</td>\n",
       "      <td>Bangalore/Bengaluru</td>\n",
       "      <td>GlaxoSmithKline Pharmaceuticals Limited</td>\n",
       "      <td>3-8 Yrs</td>\n",
       "    </tr>\n",
       "    <tr>\n",
       "      <th>4</th>\n",
       "      <td>Data Analyst / Engineer</td>\n",
       "      <td>Chennai, Bangalore/Bengaluru</td>\n",
       "      <td>Animaker India Private Limited</td>\n",
       "      <td>4-9 Yrs</td>\n",
       "    </tr>\n",
       "    <tr>\n",
       "      <th>5</th>\n",
       "      <td>Senior Data Analyst</td>\n",
       "      <td>Bangalore/Bengaluru</td>\n",
       "      <td>Flipkart</td>\n",
       "      <td>3-7 Yrs</td>\n",
       "    </tr>\n",
       "    <tr>\n",
       "      <th>6</th>\n",
       "      <td>Senior Data Analyst for HANA Platform</td>\n",
       "      <td>Bangalore/Bengaluru</td>\n",
       "      <td>Intel</td>\n",
       "      <td>5-10 Yrs</td>\n",
       "    </tr>\n",
       "    <tr>\n",
       "      <th>7</th>\n",
       "      <td>Data Analyst</td>\n",
       "      <td>Bangalore/Bengaluru</td>\n",
       "      <td>NetraDyne Technology India Private Limited</td>\n",
       "      <td>2-5 Yrs</td>\n",
       "    </tr>\n",
       "    <tr>\n",
       "      <th>8</th>\n",
       "      <td>Supervisor Role, Data Analyst, six sigma, Anal...</td>\n",
       "      <td>Bangalore/Bengaluru</td>\n",
       "      <td>Concentrix Daksh Services</td>\n",
       "      <td>3-6 Yrs</td>\n",
       "    </tr>\n",
       "    <tr>\n",
       "      <th>9</th>\n",
       "      <td>Data Analyst</td>\n",
       "      <td>Bangalore/Bengaluru</td>\n",
       "      <td>Slice</td>\n",
       "      <td>0-2 Yrs</td>\n",
       "    </tr>\n",
       "  </tbody>\n",
       "</table>\n",
       "</div>"
      ],
      "text/plain": [
       "                                               Title  \\\n",
       "0  Assistant/deputy Manager - Geo-spatial Data An...   \n",
       "1                                Senior Data Analyst   \n",
       "2     SENIOR ASSOCIATE ENGINEER - SCM - DATA ANALYST   \n",
       "3                                       Data Analyst   \n",
       "4                            Data Analyst / Engineer   \n",
       "5                                Senior Data Analyst   \n",
       "6              Senior Data Analyst for HANA Platform   \n",
       "7                                       Data Analyst   \n",
       "8  Supervisor Role, Data Analyst, six sigma, Anal...   \n",
       "9                                       Data Analyst   \n",
       "\n",
       "                       Location                                     Company  \\\n",
       "0   Gurgaon/Gurugram, bangalore                         Maruti Suzuki India   \n",
       "1           Bangalore/Bengaluru                                      Rapido   \n",
       "2           Bangalore/Bengaluru                           Collins Aerospace   \n",
       "3           Bangalore/Bengaluru     GlaxoSmithKline Pharmaceuticals Limited   \n",
       "4  Chennai, Bangalore/Bengaluru              Animaker India Private Limited   \n",
       "5           Bangalore/Bengaluru                                    Flipkart   \n",
       "6           Bangalore/Bengaluru                                       Intel   \n",
       "7           Bangalore/Bengaluru  NetraDyne Technology India Private Limited   \n",
       "8           Bangalore/Bengaluru                   Concentrix Daksh Services   \n",
       "9           Bangalore/Bengaluru                                       Slice   \n",
       "\n",
       "  Experience Reqd.  \n",
       "0          3-5 Yrs  \n",
       "1          1-6 Yrs  \n",
       "2         9-12 Yrs  \n",
       "3          3-8 Yrs  \n",
       "4          4-9 Yrs  \n",
       "5          3-7 Yrs  \n",
       "6         5-10 Yrs  \n",
       "7          2-5 Yrs  \n",
       "8          3-6 Yrs  \n",
       "9          0-2 Yrs  "
      ]
     },
     "execution_count": 21,
     "metadata": {},
     "output_type": "execute_result"
    }
   ],
   "source": [
    "jobs"
   ]
  }
 ],
 "metadata": {
  "kernelspec": {
   "display_name": "Python 3",
   "language": "python",
   "name": "python3"
  },
  "language_info": {
   "codemirror_mode": {
    "name": "ipython",
    "version": 3
   },
   "file_extension": ".py",
   "mimetype": "text/x-python",
   "name": "python",
   "nbconvert_exporter": "python",
   "pygments_lexer": "ipython3",
   "version": "3.7.3"
  }
 },
 "nbformat": 4,
 "nbformat_minor": 2
}
