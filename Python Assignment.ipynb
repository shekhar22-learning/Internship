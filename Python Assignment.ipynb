{
 "cells": [
  {
   "cell_type": "code",
   "execution_count": null,
   "metadata": {},
   "outputs": [],
   "source": [
    "# Question 11\n",
    "# -----------\n",
    "\n",
    "def fact(n):\n",
    "    f=1\n",
    "    for i in range(1,n+1):\n",
    "        f=f*i\n",
    "    return f\n",
    "x=int(input(\"Enter a Number: \"))\n",
    "result=fact(x)\n",
    "print(result)"
   ]
  },
  {
   "cell_type": "code",
   "execution_count": null,
   "metadata": {},
   "outputs": [],
   "source": [
    "# Question 12\n",
    "# -----------\n",
    "\n",
    "num=int(input(\"Enter a Number: \"))\n",
    "count=0\n",
    "i=1\n",
    "\n",
    "while i<=num:\n",
    "    if num%i==0:\n",
    "        count=count+1\n",
    "    i=i+1\n",
    "\n",
    "if count==2:\n",
    "    print(\"It's a Prime No. \")\n",
    "else:\n",
    "    print(\"It's a Composite No. \")"
   ]
  },
  {
   "cell_type": "code",
   "execution_count": null,
   "metadata": {},
   "outputs": [],
   "source": [
    "# Question 13\n",
    "# -----------\n",
    "\n",
    "def palindrome(p):\n",
    "    t=p.lower()\n",
    "    left=0\n",
    "    right=len(t)-1\n",
    "    \n",
    "    while right>=left:\n",
    "        if t[left]=='':\n",
    "            left+=1\n",
    "        if t[right]=='':\n",
    "            right-=1\n",
    "        if t[left] != t[right]:\n",
    "            return False\n",
    "        left+=1\n",
    "        right-=1\n",
    "    return True\n",
    "\n",
    "print(palindrome('KANAK'))\n",
    "print(palindrome('SHEKHAR'))"
   ]
  },
  {
   "cell_type": "code",
   "execution_count": null,
   "metadata": {},
   "outputs": [],
   "source": [
    "# Question 14\n",
    "# -----------\n",
    "\n",
    "import math\n",
    "\n",
    "s1 = float(input(\"Enter base: \"))\n",
    "s2 = float(input(\"Enter height: \"))\n",
    "\n",
    "h = math.sqrt(s1 ** 2 + s2 ** 2)\n",
    "\n",
    "print(\"Hypotenuse =\", h)"
   ]
  },
  {
   "cell_type": "code",
   "execution_count": null,
   "metadata": {},
   "outputs": [],
   "source": [
    "# Question 15\n",
    "# -----------\n",
    "\n",
    "input_string =input(\"Enter a Number: \")\n",
    "frequencies = {} \n",
    "  \n",
    "for char in input_string:\n",
    "    if char in frequencies:\n",
    "        frequencies[char] += 1\n",
    "    else:\n",
    "        frequencies[char] = 1\n",
    "\n",
    "# Show Output\n",
    "print (\"Per char frequency in '{}' is :\\n {}\".format(input_string, str(frequencies)))"
   ]
  },
  {
   "cell_type": "code",
   "execution_count": null,
   "metadata": {},
   "outputs": [],
   "source": []
  }
 ],
 "metadata": {
  "kernelspec": {
   "display_name": "Python 3",
   "language": "python",
   "name": "python3"
  },
  "language_info": {
   "codemirror_mode": {
    "name": "ipython",
    "version": 3
   },
   "file_extension": ".py",
   "mimetype": "text/x-python",
   "name": "python",
   "nbconvert_exporter": "python",
   "pygments_lexer": "ipython3",
   "version": "3.7.3"
  }
 },
 "nbformat": 4,
 "nbformat_minor": 2
}
